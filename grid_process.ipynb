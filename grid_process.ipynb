{
 "cells": [
  {
   "cell_type": "code",
   "execution_count": 1,
   "id": "narrative-ministry",
   "metadata": {},
   "outputs": [],
   "source": [
    "import numpy as np\n",
    "import cv2\n",
    "import sys\n",
    "import os"
   ]
  },
  {
   "cell_type": "code",
   "execution_count": 2,
   "id": "cultural-greek",
   "metadata": {},
   "outputs": [],
   "source": [
    "name = \"AB_HetY1Hpilot3-16_5mm_3AT_X-gal_7d.JPG.JPG\"\n",
    "for root, dirs, files in os.walk(\"data/\"):\n",
    "    if name in files:\n",
    "        print(os.path.join(root, name))"
   ]
  },
  {
   "cell_type": "code",
   "execution_count": 3,
   "id": "municipal-vegetable",
   "metadata": {},
   "outputs": [],
   "source": [
    "def resize_im(im,scale):\n",
    "    #percent by which the image is resized\n",
    "    scale_percent = 20\n",
    "\n",
    "    #calculate the 50 percent of original dimensions\n",
    "    width = int(im.shape[1] * scale / 100)\n",
    "    height = int(im.shape[0] * scale / 100)\n",
    "\n",
    "    # dsize\n",
    "    dsize = (width, height)\n",
    "\n",
    "    # resize image\n",
    "    test_output = cv2.resize(im, dsize)\n",
    "    return test_output"
   ]
  },
  {
   "cell_type": "code",
   "execution_count": 4,
   "id": "duplicate-sphere",
   "metadata": {},
   "outputs": [],
   "source": [
    "def detect_circles(im):\n",
    "    output = im#resize_im(im, 50)\n",
    "    gray = cv2.cvtColor(output, cv2.COLOR_BGR2GRAY)\n",
    "    gray = cv2.medianBlur(gray, 5)\n",
    "    rows = gray.shape[0]\n",
    "    \"\"\" \n",
    "    If a pixel gradient is higher than the upper threshold(param1), the pixel is accepted as an edge\n",
    "    If a pixel gradient value is below the lower threshold(param2), then it is rejected.\n",
    "    If the pixel gradient is between the two thresholds, then it will be accepted only if it is connected to a pixel that is above the upper threshold.\n",
    "    Canny recommended a upper:lower ratio between 2:1 and 3:1.\n",
    "    \"\"\"\n",
    "    circles = cv2.HoughCircles(gray,cv2.HOUGH_GRADIENT,\n",
    "                               1,#dp inverse, usually one\n",
    "                               75,#min distance between circles\n",
    "                               param1=15,#50,\n",
    "                               param2=12,\n",
    "                               minRadius=0,\n",
    "                               maxRadius=45)\n",
    "\n",
    "    circles = np.uint16(np.around(circles))\n",
    "    for i in circles[0,:]:\n",
    "        # draw the outer circle\n",
    "        #cv2.circle(output,(i[0],i[1]),i[2],(0,255,0),2)\n",
    "        # draw the center of the circle\n",
    "        cv2.circle(output,(i[0],i[1]),2,(0,0,255),3)\n",
    "\n",
    "        #print(\"circles : {}\".format(circles))\n",
    "    \"\"\"if circles is not None:\n",
    "        circles = np.uint16(np.around(circles))\n",
    "        for i in circles[0, :]:\n",
    "            center = (i[0], i[1])\n",
    "            # circle center\n",
    "            cv2.circle(output, center, 1, (0, 100, 100), 3)\n",
    "            # circle outline\n",
    "            radius = i[2]\n",
    "            cv2.circle(output, center, radius, (255, 0, 255), 3)\"\"\"\n",
    "    return output,circles"
   ]
  },
  {
   "cell_type": "code",
   "execution_count": 5,
   "id": "elder-update",
   "metadata": {},
   "outputs": [],
   "source": [
    "# import personal image\n",
    "image = cv2.imread(\"data/AB_HetY1Hpilot3-9_5mm_3AT_X-gal_7d.JPG\")"
   ]
  },
  {
   "cell_type": "code",
   "execution_count": 6,
   "id": "bacterial-behalf",
   "metadata": {},
   "outputs": [],
   "source": [
    "def getHistogramProjection(img):\n",
    "    histogram = img.copy()\n",
    "    histogram[histogram == 255] = 1\n",
    "    return np.sum(histogram,axis=0),np.sum(histogram,axis=1)"
   ]
  },
  {
   "cell_type": "code",
   "execution_count": 7,
   "id": "included-depression",
   "metadata": {},
   "outputs": [],
   "source": [
    "img = cv2.Canny(image,20,30)\n",
    "template1 = cv2.imread('./mahir/Heterodimer-Y1H-Analysis-main/upperLeft.png',0)\n",
    "template2 = cv2.imread('./mahir/Heterodimer-Y1H-Analysis-main/bottomRight.png',0)\n",
    "\n",
    "res = cv2.matchTemplate(img,template1,cv2.TM_CCORR_NORMED)\n",
    "res1= cv2.matchTemplate(img,template2,cv2.TM_CCORR_NORMED)\n",
    "min_val, max_val, min_loc, max_loc = cv2.minMaxLoc(res)\n",
    "top_left = np.add(max_loc,[140,40])\n",
    "min_val, max_val, min_loc, max_loc = cv2.minMaxLoc(res1)\n",
    "bottom_right = np.add(max_loc,[0,140])\n",
    "img = image[top_left[1]:bottom_right[1], top_left[0]:bottom_right[0]]\n",
    "# cv2.imshow('first crop.png',img)\n",
    "# cv2.waitKey()\n",
    "# cv2.rectangle(img,tuple(top_left), tuple(bottom_right), 255, 2)\n",
    "# cv2.imwrite('crop.jpg',img1[top_left[1]:bottom_right[1], top_left[0]:bottom_right[0]])\n",
    "# cv2.waitKey(0)\n",
    "# print(top_left,bottom_right)\n",
    "\n",
    "gray = cv2.cvtColor(img,cv2.COLOR_BGR2GRAY)\n",
    "# hist,bins = np.histogram(img.ravel(),256,[0,256])\n",
    "gray = ((gray < 110) * 255).astype(np.uint8)\n",
    "# cv2.imshow('gray',gray)\n",
    "# cv2.waitKey()\n",
    "xProj,yProj=getHistogramProjection(gray)\n",
    "xNonZero = [i for i, elem in enumerate(xProj) if elem >30]\n",
    "yNonZero= [i for i, elem in enumerate(yProj) if elem >30]\n",
    "crop = img[yNonZero[0]:yNonZero[-1],xNonZero[0]:xNonZero[-1]]"
   ]
  },
  {
   "cell_type": "code",
   "execution_count": 9,
   "id": "indian-bandwidth",
   "metadata": {},
   "outputs": [
    {
     "data": {
      "text/plain": [
       "-1"
      ]
     },
     "execution_count": 9,
     "metadata": {},
     "output_type": "execute_result"
    }
   ],
   "source": [
    "cv2.namedWindow(\"Display window\", cv2.WINDOW_AUTOSIZE)\n",
    "cv2.imshow('passes ', resize_im(detect_circles(crop)[0],30))\n",
    "cv2.waitKey(0)\n",
    "#closing all open windows  \n",
    "cv2.destroyAllWindows()\n",
    "cv2.waitKey(1)"
   ]
  },
  {
   "cell_type": "code",
   "execution_count": 588,
   "id": "insured-jacket",
   "metadata": {},
   "outputs": [
    {
     "name": "stdout",
     "output_type": "stream",
     "text": [
      "(1, 824, 3)\n"
     ]
    }
   ],
   "source": [
    "print(detect_circles(crop)[1].shape)"
   ]
  },
  {
   "cell_type": "code",
   "execution_count": null,
   "id": "knowing-master",
   "metadata": {},
   "outputs": [],
   "source": [
    "#test2\n",
    "im = image\n",
    "imgray = cv2.cvtColor(im, cv2.COLOR_BGR2GRAY)\n",
    "im_gauss = cv2.GaussianBlur(imgray, (5, 5), 0)\n",
    "ret, thresh = cv2.threshold(im_gauss, 127, 255, 0)\n",
    "# get contours\n",
    "contours, hierarchy = cv2.findContours(thresh, cv2.RETR_TREE, cv2.CHAIN_APPROX_SIMPLE)\n",
    "\n",
    "contours_area = []\n",
    "# calculate area and filter into new array\n",
    "for con in contours:\n",
    "    area = cv2.contourArea(con)\n",
    "    if 1000 < area < 10000:\n",
    "        contours_area.append(con)"
   ]
  }
 ],
 "metadata": {
  "kernelspec": {
   "display_name": "Python [conda env:DLC-GPU] *",
   "language": "python",
   "name": "conda-env-DLC-GPU-py"
  },
  "language_info": {
   "codemirror_mode": {
    "name": "ipython",
    "version": 3
   },
   "file_extension": ".py",
   "mimetype": "text/x-python",
   "name": "python",
   "nbconvert_exporter": "python",
   "pygments_lexer": "ipython3",
   "version": "3.7.9"
  }
 },
 "nbformat": 4,
 "nbformat_minor": 5
}
