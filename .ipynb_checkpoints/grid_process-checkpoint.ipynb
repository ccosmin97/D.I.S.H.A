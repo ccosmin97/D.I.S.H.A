{
 "cells": [
  {
   "cell_type": "code",
   "execution_count": 4,
   "id": "parliamentary-hampshire",
   "metadata": {},
   "outputs": [],
   "source": [
    "import numpy as np\n",
    "import cv2\n",
    "import sys\n",
    "import os\n",
    "import matplotlib.pyplot as plt"
   ]
  },
  {
   "cell_type": "code",
   "execution_count": 5,
   "id": "forward-digest",
   "metadata": {},
   "outputs": [],
   "source": [
    "name = \"data/AB_HetY1Hpilot3-16_5mm_3AT_X-gal_7d.JPG.JPG\"\n",
    "for root, dirs, files in os.walk(\"data/\"):\n",
    "    if name in files:\n",
    "        print(os.path.join(root, name))"
   ]
  },
  {
   "cell_type": "code",
   "execution_count": 6,
   "id": "unique-thing",
   "metadata": {},
   "outputs": [],
   "source": [
    "def resize_im(im,scale):\n",
    "    #percent by which the image is resized\n",
    "    scale_percent = 20\n",
    "\n",
    "    #calculate the 50 percent of original dimensions\n",
    "    width = int(im.shape[1] * scale / 100)\n",
    "    height = int(im.shape[0] * scale / 100)\n",
    "\n",
    "    # dsize\n",
    "    dsize = (width, height)\n",
    "\n",
    "    # resize image\n",
    "    test_output = cv2.resize(im, dsize)\n",
    "    return test_output"
   ]
  },
  {
   "cell_type": "code",
   "execution_count": 7,
   "id": "indie-ghost",
   "metadata": {},
   "outputs": [],
   "source": [
    "def detect_circles(im):\n",
    "    output = im.copy()#resize_im(im, 50)\n",
    "    gray = cv2.cvtColor(output, cv2.COLOR_BGR2GRAY)\n",
    "    gray = cv2.medianBlur(gray, 5)\n",
    "    rows = gray.shape[0]\n",
    "    \"\"\" \n",
    "    If a pixel gradient is higher than the upper threshold(param1), the pixel is accepted as an edge\n",
    "    If a pixel gradient value is below the lower threshold(param2), then it is rejected.\n",
    "    If the pixel gradient is between the two thresholds, then it will be accepted only if it is connected to a pixel that is above the upper threshold.\n",
    "    Canny recommended a upper:lower ratio between 2:1 and 3:1.\n",
    "    \"\"\"\n",
    "    circles = cv2.HoughCircles(gray,cv2.HOUGH_GRADIENT,\n",
    "                               1,#dp inverse, usually one\n",
    "                               75,#min distance between circles\n",
    "                               param1=15,#50,\n",
    "                               param2=12,\n",
    "                               minRadius=0,\n",
    "                               maxRadius=45)\n",
    "\n",
    "    circles = np.uint16(np.around(circles))\n",
    "    for i in circles[0,:]:\n",
    "        # draw the outer circle\n",
    "        #cv2.circle(output,(i[0],i[1]),i[2],(0,255,0),2)\n",
    "        # draw the center of the circle\n",
    "        cv2.circle(output,(i[0],i[1]),2,(0,0,255),3)\n",
    "\n",
    "        #print(\"circles : {}\".format(circles))\n",
    "    \"\"\"if circles is not None:\n",
    "        circles = np.uint16(np.around(circles))\n",
    "        for i in circles[0, :]:\n",
    "            center = (i[0], i[1])\n",
    "            # circle center\n",
    "            cv2.circle(output, center, 1, (0, 100, 100), 3)\n",
    "            # circle outline\n",
    "            radius = i[2]\n",
    "            cv2.circle(output, center, radius, (255, 0, 255), 3)\"\"\"\n",
    "    return output,circles"
   ]
  },
  {
   "cell_type": "code",
   "execution_count": 8,
   "id": "strange-thriller",
   "metadata": {},
   "outputs": [],
   "source": [
    "# import personal image\n",
    "image = cv2.imread(\"./data/AB_HetY1Hpilot3-9_5mm_3AT_X-gal_7d.JPG\")"
   ]
  },
  {
   "cell_type": "code",
   "execution_count": 9,
   "id": "arbitrary-league",
   "metadata": {},
   "outputs": [],
   "source": [
    "def getHistogramProjection(img):\n",
    "    histogram = img.copy()\n",
    "    histogram[histogram == 255] = 1\n",
    "    return np.sum(histogram,axis=0),np.sum(histogram,axis=1)"
   ]
  },
  {
   "cell_type": "code",
   "execution_count": 10,
   "id": "fitted-vertical",
   "metadata": {},
   "outputs": [],
   "source": [
    "img = cv2.Canny(image,20,30)\n",
    "template1 = cv2.imread('upperLeft.png',0)\n",
    "template2 = cv2.imread('bottomRight.png',0)\n",
    "\n",
    "res = cv2.matchTemplate(img,template1,cv2.TM_CCORR_NORMED)\n",
    "res1= cv2.matchTemplate(img,template2,cv2.TM_CCORR_NORMED)\n",
    "min_val, max_val, min_loc, max_loc = cv2.minMaxLoc(res)\n",
    "top_left = np.add(max_loc,[140,40])\n",
    "min_val, max_val, min_loc, max_loc = cv2.minMaxLoc(res1)\n",
    "bottom_right = np.add(max_loc,[0,140])\n",
    "img = image[top_left[1]:bottom_right[1], top_left[0]:bottom_right[0]]\n",
    "# cv2.imshow('first crop.png',img)\n",
    "# cv2.waitKey()\n",
    "# cv2.rectangle(img,tuple(top_left), tuple(bottom_right), 255, 2)\n",
    "# cv2.imwrite('crop.jpg',img1[top_left[1]:bottom_right[1], top_left[0]:bottom_right[0]])\n",
    "# cv2.waitKey(0)\n",
    "# print(top_left,bottom_right)\n",
    "\n",
    "gray = cv2.cvtColor(img,cv2.COLOR_BGR2GRAY)\n",
    "# hist,bins = np.histogram(img.ravel(),256,[0,256])\n",
    "gray = ((gray < 110) * 255).astype(np.uint8)\n",
    "# cv2.imshow('gray',gray)\n",
    "# cv2.waitKey()\n",
    "xProj,yProj=getHistogramProjection(gray)\n",
    "xNonZero = [i for i, elem in enumerate(xProj) if elem >30]\n",
    "yNonZero= [i for i, elem in enumerate(yProj) if elem >30]\n",
    "crop = img[yNonZero[0]:yNonZero[-1],xNonZero[0]:xNonZero[-1]]"
   ]
  },
  {
   "cell_type": "code",
   "execution_count": 209,
   "id": "other-stanley",
   "metadata": {},
   "outputs": [
    {
     "data": {
      "text/plain": [
       "-1"
      ]
     },
     "execution_count": 209,
     "metadata": {},
     "output_type": "execute_result"
    }
   ],
   "source": [
    "cv2.namedWindow(\"Display window\", cv2.WINDOW_AUTOSIZE)\n",
    "cv2.imshow('passes ', resize_im(detect_circles(crop)[0],30))\n",
    "cv2.waitKey(0)\n",
    "#closing all open windows  \n",
    "cv2.destroyAllWindows()\n",
    "cv2.waitKey(1)"
   ]
  },
  {
   "cell_type": "code",
   "execution_count": 11,
   "id": "monthly-abraham",
   "metadata": {
    "scrolled": true
   },
   "outputs": [],
   "source": [
    "res = (detect_circles(crop)[1])[0,:,:] #x, y, radius\n",
    "\n",
    "sorted_y = res[np.argsort(res[:, 1])]\n",
    "sorted_x= res[np.argsort(res[:, 0])]"
   ]
  },
  {
   "cell_type": "code",
   "execution_count": 12,
   "id": "suffering-guard",
   "metadata": {},
   "outputs": [],
   "source": [
    "sorted_y_x = res[np.lexsort((res[:,0], res[:,1],res[:,2]))]"
   ]
  },
  {
   "cell_type": "code",
   "execution_count": 13,
   "id": "fifty-incentive",
   "metadata": {},
   "outputs": [],
   "source": [
    "temp = sorted_x[0:31]\n",
    "test = temp[np.lexsort((temp[:,0], temp[:,1]))] #sort by x then y // threshold => approx 20 pixels"
   ]
  },
  {
   "cell_type": "code",
   "execution_count": 27,
   "id": "handled-modem",
   "metadata": {},
   "outputs": [
    {
     "data": {
      "text/plain": [
       "array([[  50,   92,   10],\n",
       "       [  48,  180,    7],\n",
       "       [  50,  262,    9],\n",
       "       [  48,  348,    7],\n",
       "       [  50,  430,    6],\n",
       "       [  50,  514,    9],\n",
       "       [  52,  596,    7],\n",
       "       [  48,  678,    7],\n",
       "       [  52,  762,    8],\n",
       "       [  52,  842,    7],\n",
       "       [  52,  928,    9],\n",
       "       [  52, 1010,    9],\n",
       "       [  54, 1094,    8],\n",
       "       [  54, 1178,    8],\n",
       "       [  54, 1260,    6],\n",
       "       [  54, 1342,    7],\n",
       "       [  54, 1424,    8],\n",
       "       [  54, 1504,    8],\n",
       "       [  56, 1590,    8],\n",
       "       [  56, 1670,    8],\n",
       "       [  56, 1754,    8],\n",
       "       [  54, 1922,   10],\n",
       "       [  60, 2002,    7],\n",
       "       [  60, 2086,    7],\n",
       "       [  60, 2168,    8],\n",
       "       [  62, 2252,    8],\n",
       "       [  60, 2332,    8],\n",
       "       [  62, 2416,    8],\n",
       "       [  64, 2498,    6],\n",
       "       [  64, 2574,   10],\n",
       "       [  64, 2664,   12]], dtype=uint16)"
      ]
     },
     "execution_count": 27,
     "metadata": {},
     "output_type": "execute_result"
    }
   ],
   "source": [
    "test[0:31]"
   ]
  },
  {
   "cell_type": "code",
   "execution_count": 33,
   "id": "original-links",
   "metadata": {},
   "outputs": [],
   "source": [
    "test2 = np.diff(test[0:31,1])"
   ]
  },
  {
   "cell_type": "code",
   "execution_count": 26,
   "id": "cardiac-aviation",
   "metadata": {},
   "outputs": [
    {
     "data": {
      "text/plain": [
       "array([ 88,  82,  86,  82,  84,  82,  82,  84,  80,  86,  82,  84,  84,\n",
       "        82,  82,  82,  80,  86,  80,  84, 168,  80,  84,  82,  84,  80,\n",
       "        84,  82,  76,  90], dtype=uint16)"
      ]
     },
     "execution_count": 26,
     "metadata": {},
     "output_type": "execute_result"
    }
   ],
   "source": [
    "test2"
   ]
  },
  {
   "cell_type": "code",
   "execution_count": 24,
   "id": "recorded-lottery",
   "metadata": {},
   "outputs": [
    {
     "name": "stdout",
     "output_type": "stream",
     "text": [
      "20\n"
     ]
    }
   ],
   "source": [
    "print(np.where(test2 > 1.5 * np.mean(test2))[0][0])"
   ]
  },
  {
   "cell_type": "code",
   "execution_count": null,
   "id": "destroyed-boost",
   "metadata": {},
   "outputs": [],
   "source": []
  },
  {
   "cell_type": "code",
   "execution_count": 216,
   "id": "multiple-berkeley",
   "metadata": {},
   "outputs": [
    {
     "name": "stdout",
     "output_type": "stream",
     "text": [
      "[[  48  180    7]\n",
      " [  48  678    7]\n",
      " [  48  348    7]\n",
      " [  50  262    9]\n",
      " [  50  430    6]\n",
      " [  50   92   10]\n",
      " [  50  514    9]\n",
      " [  52  928    9]\n",
      " [  52 1010    9]\n",
      " [  52  596    7]\n",
      " [  52  842    7]\n",
      " [  52  762    8]\n",
      " [  54 1922   10]\n",
      " [  54 1424    8]\n",
      " [  54 1094    8]\n",
      " [  54 1504    8]\n",
      " [  54 1342    7]\n",
      " [  54 1260    6]\n",
      " [  54 1178    8]\n",
      " [  56 1590    8]\n",
      " [  56 1670    8]\n",
      " [  56 1754    8]\n",
      " [  60 2168    8]\n",
      " [  60 2002    7]\n",
      " [  60 2086    7]\n",
      " [  60 2332    8]\n",
      " [  62 2252    8]\n",
      " [  62 2416    8]\n",
      " [  64 2574   10]\n",
      " [  64 2498    6]\n",
      " [  64 2664   12]]\n"
     ]
    }
   ],
   "source": [
    "# so 32 yeasts per row/col\n",
    "print(sorted_x[0:31])"
   ]
  },
  {
   "cell_type": "code",
   "execution_count": null,
   "id": "composed-africa",
   "metadata": {},
   "outputs": [],
   "source": [
    "for index, elem in enumerate(sorted_x):\n",
    "    \n",
    "    "
   ]
  },
  {
   "cell_type": "code",
   "execution_count": 227,
   "id": "scientific-interval",
   "metadata": {},
   "outputs": [
    {
     "data": {
      "text/plain": [
       "-1"
      ]
     },
     "execution_count": 227,
     "metadata": {},
     "output_type": "execute_result"
    }
   ],
   "source": [
    "output2 = crop.copy()\n",
    "\n",
    "for c in test:\n",
    "    # draw the outer circle\n",
    "    #cv2.circle(output,(i[0],i[1]),i[2],(0,255,0),2)\n",
    "    # draw the center of the circle\n",
    "    cv2.circle(output2,(c[0],c[1]),2,(0,0,255),3)\n",
    "    \n",
    "cv2.namedWindow(\"Display window\", cv2.WINDOW_AUTOSIZE)\n",
    "cv2.imshow('passes ', resize_im(output2,30))\n",
    "cv2.waitKey(0)\n",
    "#closing all open windows  \n",
    "cv2.destroyAllWindows()\n",
    "cv2.waitKey(1)"
   ]
  },
  {
   "cell_type": "code",
   "execution_count": 52,
   "id": "closing-moment",
   "metadata": {},
   "outputs": [],
   "source": [
    "#test2\n",
    "im = image\n",
    "imgray = cv2.cvtColor(im, cv2.COLOR_BGR2GRAY)\n",
    "im_gauss = cv2.GaussianBlur(imgray, (5, 5), 0)\n",
    "ret, thresh = cv2.threshold(im_gauss, 127, 255, 0)\n",
    "# get contours\n",
    "contours, hierarchy = cv2.findContours(thresh, cv2.RETR_TREE, cv2.CHAIN_APPROX_SIMPLE)\n",
    "\n",
    "contours_area = []\n",
    "# calculate area and filter into new array\n",
    "for con in contours:\n",
    "    area = cv2.contourArea(con)\n",
    "    if 1000 < area < 10000:\n",
    "        contours_area.append(con)"
   ]
  }
 ],
 "metadata": {
  "kernelspec": {
   "display_name": "Python [conda env:DLC-GPU] *",
   "language": "python",
   "name": "conda-env-DLC-GPU-py"
  },
  "language_info": {
   "codemirror_mode": {
    "name": "ipython",
    "version": 3
   },
   "file_extension": ".py",
   "mimetype": "text/x-python",
   "name": "python",
   "nbconvert_exporter": "python",
   "pygments_lexer": "ipython3",
   "version": "3.7.9"
  }
 },
 "nbformat": 4,
 "nbformat_minor": 5
}
